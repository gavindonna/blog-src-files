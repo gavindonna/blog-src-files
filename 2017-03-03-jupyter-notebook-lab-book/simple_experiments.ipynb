{
 "cells": [
  {
   "cell_type": "markdown",
   "metadata": {},
   "source": [
    "# Protein concentration"
   ]
  },
  {
   "cell_type": "markdown",
   "metadata": {},
   "source": [
    "## Introduction \n",
    "\n",
    "Quantifying protein by directly measuring absorbance is fast and convenient, since no additional reagents or incubations are required. No protein standard need be prepared and the procedure does not consume the protein. The relationship of absorbance to protein concentration is linear. Because different proteins and nucleic acids have widely varying absorption characteristics there may be considerable error, especially for unknowns or protein mixtures. Any non-protein component of the solution that absorbs ultraviolet light will intefere with the measurements. Cell and tissue fractionation samples often contain insoluble or colored components that interfere. The most common use for this method is to monitor fractions from chromatography columns, or any time a quick estimation is needed and error in protein concentration is not a concern. This method is recommended for calibrating bovine serum albumin or other pure protein solutions for use as standards in other methods.\n",
    "\n",
    "\n",
    "## Principle\n",
    "\n",
    "Proteins in solution absorb ultraviolet light with absorbance maxima at 280 and 200 nm. Amino acids with aromatic rings are the primary reason for the absorbance peak at 280 nm. Peptide bonds are primarily responsible for the peak at 200 nm. Secondary, tertiary, and quaternary structure all affect absorbance, therefore factors such as pH, ionic strength, etc. can alter the absorbance spectrum.\n",
    "\n",
    "\n",
    "## Equipment\n",
    "\n",
    "In addition to standard liquid handling supplies a spectrophotometer with UV lamp and quartz cuvette are required.\n",
    "\n",
    "\n",
    "## Procedure\n",
    "\n",
    "Carry out steps 1-4 (280 nm only) for a very rough estimate. Carry out all steps if nucleic acid contamination is likely.\n",
    "Warm up the UV lamp (about 15 min.)\n",
    "Adjust wavelength to 280 nm\n",
    "Calibrate to zero absorbance with buffer solution only\n",
    "Measure absorbance of the protein solution\n",
    "Adjust wavelength to 260 nm\n",
    "Calibrate to zero absorbance with buffer solution only\n",
    "Measure absorbance of the protein solution"
   ]
  },
  {
   "cell_type": "markdown",
   "metadata": {},
   "source": [
    "##\n",
    "\n",
    "Unknown proteins or protein mixtures. Use the following formula to roughly estimate protein concentration. Path length for most spectrometers is 1 cm.\n",
    "\n",
    "\n",
    "$$C  = \\frac{A_{280}}{l}$$\n",
    "\n",
    "Pure protein of known absorbance coefficient. Use the following formula for a path length of 1 cm. Concentration is in mg/ml, %, or molarity depending on which type coefficient is used.\n",
    "\n",
    "concentration = Absorbance at 280 nm divided by absorbance coefficient\n",
    "\n",
    "To convert units, use these relationships:\n",
    "\n",
    "Mg protein/ml = % protein divided by 10 = molarity divided by protein molecular weight\n",
    "\n",
    "Unknowns with possible nucleic acid contamination. Use the following formula to estimate protein concentration:\n",
    "\n",
    "Concentration (mg/ml) = (1.55 x A280) - 0.76 x A260)"
   ]
  },
  {
   "cell_type": "markdown",
   "metadata": {},
   "source": [
    "http://www.ruf.rice.edu/~bioslabs/methods/protein/abs280.html"
   ]
  },
  {
   "cell_type": "code",
   "execution_count": null,
   "metadata": {
    "collapsed": true
   },
   "outputs": [],
   "source": []
  },
  {
   "cell_type": "markdown",
   "metadata": {},
   "source": [
    "# Protein activity"
   ]
  },
  {
   "cell_type": "code",
   "execution_count": null,
   "metadata": {
    "collapsed": true
   },
   "outputs": [],
   "source": []
  },
  {
   "cell_type": "code",
   "execution_count": null,
   "metadata": {
    "collapsed": true
   },
   "outputs": [],
   "source": []
  },
  {
   "cell_type": "code",
   "execution_count": null,
   "metadata": {
    "collapsed": true
   },
   "outputs": [],
   "source": []
  },
  {
   "cell_type": "markdown",
   "metadata": {},
   "source": [
    "# DNA quality and quantity"
   ]
  },
  {
   "cell_type": "code",
   "execution_count": null,
   "metadata": {
    "collapsed": true
   },
   "outputs": [],
   "source": []
  }
 ],
 "metadata": {
  "kernelspec": {
   "display_name": "Python 3",
   "language": "python",
   "name": "python3"
  },
  "language_info": {
   "codemirror_mode": {
    "name": "ipython",
    "version": 3
   },
   "file_extension": ".py",
   "mimetype": "text/x-python",
   "name": "python",
   "nbconvert_exporter": "python",
   "pygments_lexer": "ipython3",
   "version": "3.6.1"
  },
  "toc": {
   "colors": {
    "hover_highlight": "#DAA520",
    "navigate_num": "#000000",
    "navigate_text": "#333333",
    "running_highlight": "#FF0000",
    "selected_highlight": "#FFD700",
    "sidebar_border": "#EEEEEE",
    "wrapper_background": "#FFFFFF"
   },
   "moveMenuLeft": true,
   "nav_menu": {
    "height": "138px",
    "width": "252px"
   },
   "navigate_menu": true,
   "number_sections": true,
   "sideBar": true,
   "threshold": 4,
   "toc_cell": false,
   "toc_section_display": "block",
   "toc_window_display": true,
   "widenNotebook": false
  }
 },
 "nbformat": 4,
 "nbformat_minor": 2
}

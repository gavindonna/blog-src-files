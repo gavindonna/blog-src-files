{
 "cells": [
  {
   "cell_type": "code",
   "execution_count": 1,
   "metadata": {
    "ExecuteTime": {
     "end_time": "2017-07-16T10:57:38.164527Z",
     "start_time": "2017-07-16T10:57:38.144514Z"
    },
    "collapsed": true
   },
   "outputs": [],
   "source": [
    "%load_ext watermark"
   ]
  },
  {
   "cell_type": "code",
   "execution_count": 2,
   "metadata": {
    "ExecuteTime": {
     "end_time": "2017-07-16T10:57:41.239220Z",
     "start_time": "2017-07-16T10:57:38.782570Z"
    }
   },
   "outputs": [
    {
     "name": "stdout",
     "output_type": "stream",
     "text": [
      "Michal Dyzma 2017-07-16 12:57:38 \n",
      "\n",
      "CPython 3.6.1\n",
      "IPython 6.1.0\n",
      "\n",
      "numpy 1.12.1\n",
      "scipy 0.19.1\n",
      "pandas 0.20.2\n",
      "\n",
      "compiler   : MSC v.1900 64 bit (AMD64)\n",
      "system     : Windows\n",
      "release    : 10\n",
      "machine    : AMD64\n",
      "processor  : Intel64 Family 6 Model 60 Stepping 3, GenuineIntel\n",
      "CPU cores  : 4\n",
      "interpreter: 64bit\n"
     ]
    }
   ],
   "source": [
    "%watermark -a \"Michal Dyzma\" -t -d -v -m -p numpy,scipy,pandas"
   ]
  },
  {
   "cell_type": "markdown",
   "metadata": {},
   "source": [
    "# Protein concentration"
   ]
  },
  {
   "cell_type": "markdown",
   "metadata": {
    "ExecuteTime": {
     "end_time": "2017-07-15T13:16:30.254037Z",
     "start_time": "2017-07-15T13:16:30.251038Z"
    }
   },
   "source": [
    "## Theoretical Background"
   ]
  },
  {
   "cell_type": "markdown",
   "metadata": {},
   "source": [
    "Example of simple experiment with data from VIS spectrophotometric experiment. Lets assume specific substance is changing properties of the solution. For example when specific dye or biochemical reaction causes solution coloring, making it less penetrable by light. \n",
    "\n",
    "For a uniform absorbing solution  the proportion of light passing through is called the transmittance: $T$, and the proportion of light absorbed by molecules in the medium is absorbance, $Abs$. \n",
    "\n",
    "Transmittance is defined as:\n",
    "\n",
    "$$T =  \\frac{I}{I_{o}} $$\n",
    "\n",
    "where:\n",
    "\n",
    "* $I_o$ is intensity of the incident radiation entering the medium.\n",
    "* $I$ = intensity of the transmitted radiation leaving the medium.\n",
    "\n",
    "\n",
    "T can be expressed as percent transmittance, $\\%T$:\n",
    "\n",
    "$$%T = \\frac{I}{I_{o}} \\times 100$$\n",
    "\n",
    "The relationship between percent transmittance ($\\%T$) and absorbance ($Abs$) is given by the following equation:\n",
    "\n",
    "$$Abs = 2 - log (%T) $$\n",
    "\n",
    "From above equation we can see, that probe, which absorbs 100% of the light will have absorbance equal 2 ($log_{10} 100 = 2$), while completely transparent sample will have absorbance 0. Therefore theoretical span of Absorbance values range from 0 to 2, however Beer-Lambert's law is most accurate in range 0.05 to 0.7 $Abs$.\n",
    "\n",
    "The Beer-Lambert Law states that Absorbance is proportional to the concentration of the absorbing molecules, the length of light-path through the medium and the molar extinction coefficient:\n",
    "\n",
    "$$ Abs = \\epsilon \\cdot c \\cdot l $$\n",
    "\n",
    "where:\n",
    "\n",
    "* $Abs$ – absorbance\n",
    "* $\\epsilon$ – light extinction coefficient at max absorption wavelength $\\lambda_{max}$\n",
    "* $c$ – substance concentration\n",
    "* $l$ – length of light-path\n"
   ]
  },
  {
   "cell_type": "markdown",
   "metadata": {
    "collapsed": true
   },
   "source": [
    "## Determine the absorption spectra"
   ]
  },
  {
   "cell_type": "code",
   "execution_count": 31,
   "metadata": {
    "ExecuteTime": {
     "end_time": "2017-07-16T11:44:46.032825Z",
     "start_time": "2017-07-16T11:44:46.027825Z"
    },
    "collapsed": true
   },
   "outputs": [],
   "source": [
    "# Basic pyton packages import\n",
    "import pandas as pd\n",
    "import numpy as np\n",
    "\n",
    "# graphs appear in the notebook\n",
    "%matplotlib inline"
   ]
  },
  {
   "cell_type": "code",
   "execution_count": 37,
   "metadata": {
    "ExecuteTime": {
     "end_time": "2017-07-16T11:45:51.371058Z",
     "start_time": "2017-07-16T11:45:51.363060Z"
    }
   },
   "outputs": [
    {
     "name": "stdout",
     "output_type": "stream",
     "text": [
      "[ 0.31980396  0.49344644  0.45863879  0.44316801  0.32921934  0.2994223\n",
      "  0.68387623  0.46450459  0.07688804  0.2913369   0.68336058  0.46631606\n",
      "  0.32795173  0.44044983  0.36058184  0.16635089  0.49369531  0.43265876\n",
      "  0.52955646  0.40010794  0.53115408  0.30780651  0.38292307  0.6024809\n",
      "  0.06196775  0.01809393  0.35955855  0.49190845  0.07539733  0.12108224\n",
      "  0.07605049  0.46051179  0.483208    0.32047623  0.18792772  0.1420333 ]\n",
      "[350, 360, 370, 380, 390, 400, 410, 420, 430, 440, 450, 460, 470, 480, 490, 500, 510, 520, 530, 540, 550, 560, 570, 580, 590, 600, 610, 620, 630, 640, 650, 660, 670, 680, 690, 700]\n"
     ]
    }
   ],
   "source": [
    "# generate data\n",
    "# absorbance of the sample at 50 nm intervals between 350-700 nm.\n",
    "x = range(350, 710, 10)\n",
    "\n",
    "#random values \n",
    "y = np.random.uniform(0,0.7,len(x))\n",
    "\n",
    "print(y)\n",
    "print(list(x))"
   ]
  },
  {
   "cell_type": "code",
   "execution_count": 43,
   "metadata": {
    "ExecuteTime": {
     "end_time": "2017-07-16T11:54:31.418980Z",
     "start_time": "2017-07-16T11:54:31.408978Z"
    }
   },
   "outputs": [
    {
     "name": "stdout",
     "output_type": "stream",
     "text": [
      "       Absorbance\n",
      "count   36.000000\n",
      "mean     0.355109\n",
      "std      0.176637\n",
      "min      0.018094\n",
      "25%      0.265485\n",
      "50%      0.371752\n",
      "75%      0.470539\n",
      "max      0.683876\n"
     ]
    }
   ],
   "source": [
    "#I stored batch of data n csv file to mimic wet lab procedure\n",
    "\n",
    "#Read measurements from file\n",
    "df = pd.read_csv(\"data/lambda_max.csv\", header=None, names=[\"Absorbance\"])\n",
    "df.describe()"
   ]
  },
  {
   "cell_type": "code",
   "execution_count": 44,
   "metadata": {
    "ExecuteTime": {
     "end_time": "2017-07-16T11:56:27.053009Z",
     "start_time": "2017-07-16T11:56:27.048011Z"
    }
   },
   "outputs": [
    {
     "data": {
      "text/plain": [
       "410"
      ]
     },
     "execution_count": 44,
     "metadata": {},
     "output_type": "execute_result"
    }
   ],
   "source": [
    "# Find maximal wavelenght for which absorbance is highest\n",
    "df['Absorbance'].argmax()"
   ]
  },
  {
   "cell_type": "code",
   "execution_count": 50,
   "metadata": {
    "ExecuteTime": {
     "end_time": "2017-07-16T12:13:12.208913Z",
     "start_time": "2017-07-16T12:13:12.042911Z"
    }
   },
   "outputs": [
    {
     "data": {
      "text/plain": [
       "<matplotlib.text.Text at 0x20847cbedd8>"
      ]
     },
     "execution_count": 50,
     "metadata": {},
     "output_type": "execute_result"
    },
    {
     "data": {
      "image/png": "[encoded data removed]",
      "text/plain": [
       "<matplotlib.figure.Figure at 0x20847c87358>"
      ]
     },
     "metadata": {},
     "output_type": "display_data"
    }
   ],
   "source": [
    "ax = df.Absorbance.plot(title=\"$\\lambda_{max}$ of the protein\")\n",
    "ax.set_ylabel(\"Absorbance\")\n",
    "ax.set_xlabel(\"wavelength [nm]\")"
   ]
  },
  {
   "cell_type": "markdown",
   "metadata": {},
   "source": [
    "## Calculate the extinction coefficient ($\\epsilon$) of the standards"
   ]
  },
  {
   "cell_type": "markdown",
   "metadata": {},
   "source": [
    "$$ \\epsilon =  \\frac{Abs}{c \\cdot l} $$\n",
    "\n",
    "Absorbance at 410 nm ws highest and was equal 0.683876"
   ]
  },
  {
   "cell_type": "code",
   "execution_count": 52,
   "metadata": {
    "ExecuteTime": {
     "end_time": "2017-07-16T13:10:59.587379Z",
     "start_time": "2017-07-16T13:10:59.582379Z"
    }
   },
   "outputs": [
    {
     "data": {
      "text/plain": [
       "6.217054545454546"
      ]
     },
     "execution_count": 52,
     "metadata": {},
     "output_type": "execute_result"
    }
   ],
   "source": [
    "# Abs_410 = 0.683876\n",
    "epsilon = 0.683876/(0.110*1)\n",
    "epsilon"
   ]
  },
  {
   "cell_type": "markdown",
   "metadata": {},
   "source": [
    "## Determine the concentration of proteins in solution"
   ]
  },
  {
   "cell_type": "code",
   "execution_count": 57,
   "metadata": {
    "ExecuteTime": {
     "end_time": "2017-07-16T15:11:12.914370Z",
     "start_time": "2017-07-16T15:11:12.909872Z"
    },
    "collapsed": true
   },
   "outputs": [],
   "source": [
    "# Calibration curve\n",
    "concentration = np.array([5, 10, 25, 30, 40, 50, 60, 70])\n",
    "absorbance = np.array([0.106, 0.236, 0.544, 0.690, 0.791, 0.861, 0.882, 0.911])\n"
   ]
  },
  {
   "cell_type": "code",
   "execution_count": 71,
   "metadata": {
    "ExecuteTime": {
     "end_time": "2017-07-16T16:40:12.540345Z",
     "start_time": "2017-07-16T16:40:12.391826Z"
    }
   },
   "outputs": [
    {
     "data": {
      "image/png": "[encoded data removed]",
      "text/plain": [
       "<matplotlib.figure.Figure at 0x2084a4ceb38>"
      ]
     },
     "metadata": {},
     "output_type": "display_data"
    }
   ],
   "source": [
    "import matplotlib.pyplot as plt\n",
    "plt.plot(concentration, absorbance, 'o', label='original data')\n",
    "plt.grid(alpha=0.8)"
   ]
  },
  {
   "cell_type": "code",
   "execution_count": 92,
   "metadata": {
    "ExecuteTime": {
     "end_time": "2017-07-16T17:38:26.623071Z",
     "start_time": "2017-07-16T17:38:26.616070Z"
    }
   },
   "outputs": [
    {
     "name": "stdout",
     "output_type": "stream",
     "text": [
      "r-squared: 0.8754454029810919\n",
      "0.0124571906355\n",
      "0.176051839465\n"
     ]
    }
   ],
   "source": [
    "# Linear regression\n",
    "from scipy import stats\n",
    "\n",
    "slope, intercept, r_value, p_value, std_err = stats.linregress(concentration, absorbance)\n",
    "print(\"r-squared: {}\".format(r_value**2))\n",
    "print(slope)\n",
    "print(intercept)"
   ]
  },
  {
   "cell_type": "code",
   "execution_count": null,
   "metadata": {
    "collapsed": true
   },
   "outputs": [],
   "source": [
    "x = (absorbance - intercept)/slope"
   ]
  },
  {
   "cell_type": "code",
   "execution_count": 87,
   "metadata": {
    "ExecuteTime": {
     "end_time": "2017-07-16T16:51:43.185648Z",
     "start_time": "2017-07-16T16:51:43.045649Z"
    }
   },
   "outputs": [
    {
     "data": {
      "image/png": "[encoded data removed]",
      "text/plain": [
       "<matplotlib.figure.Figure at 0x2084a312d30>"
      ]
     },
     "metadata": {},
     "output_type": "display_data"
    }
   ],
   "source": [
    "plt.plot(concentration, absorbance, 'o', label='data points')\n",
    "plt.plot(concentration, intercept + slope*concentration, 'r', label='fitted line')\n",
    "plt.legend()\n",
    "plt.grid(alpha=0.8)"
   ]
  },
  {
   "cell_type": "code",
   "execution_count": 88,
   "metadata": {
    "ExecuteTime": {
     "end_time": "2017-07-16T16:51:43.657031Z",
     "start_time": "2017-07-16T16:51:43.495011Z"
    }
   },
   "outputs": [
    {
     "data": {
      "image/png": "[encoded data removed]",
      "text/plain": [
       "<matplotlib.figure.Figure at 0x2084c2a57f0>"
      ]
     },
     "metadata": {},
     "output_type": "display_data"
    }
   ],
   "source": [
    "#polynomial fit\n",
    "import numpy.polynomial.polynomial as poly\n",
    "\n",
    "coefs = poly.polyfit(concentration, absorbance, 3)\n",
    "ffit = poly.polyval(concentration, coefs)\n",
    "\n",
    "plt.plot(concentration, absorbance, 'o', label='data points')\n",
    "plt.plot(concentration, ffit, 'r', label='fitted line')\n",
    "plt.legend()\n",
    "plt.grid(alpha=0.8)\n"
   ]
  },
  {
   "cell_type": "code",
   "execution_count": 93,
   "metadata": {
    "ExecuteTime": {
     "end_time": "2017-07-16T17:56:04.355940Z",
     "start_time": "2017-07-16T17:56:04.350941Z"
    }
   },
   "outputs": [
    {
     "name": "stdout",
     "output_type": "stream",
     "text": [
      "[ -6.29998061e-02   3.40965628e-02  -3.68738266e-04   1.12600636e-06]\n"
     ]
    }
   ],
   "source": [
    "print(coefs)"
   ]
  },
  {
   "cell_type": "code",
   "execution_count": 94,
   "metadata": {
    "ExecuteTime": {
     "end_time": "2017-07-16T17:56:15.066375Z",
     "start_time": "2017-07-16T17:56:15.054876Z"
    }
   },
   "outputs": [
    {
     "data": {
      "text/plain": [
       "array([ 0.53024215+0.j        ,  0.00548740+0.00189632j,\n",
       "        0.00548740-0.00189632j])"
      ]
     },
     "execution_count": 94,
     "metadata": {},
     "output_type": "execute_result"
    }
   ],
   "source": [
    "np.roots(coefs)"
   ]
  },
  {
   "cell_type": "code",
   "execution_count": 95,
   "metadata": {
    "ExecuteTime": {
     "end_time": "2017-07-16T19:57:17.907066Z",
     "start_time": "2017-07-16T19:57:17.902080Z"
    }
   },
   "outputs": [
    {
     "data": {
      "text/plain": [
       "'C:\\\\Users\\\\Michal\\\\Documents\\\\IPython'"
      ]
     },
     "execution_count": 95,
     "metadata": {},
     "output_type": "execute_result"
    }
   ],
   "source": [
    "%pwd"
   ]
  },
  {
   "cell_type": "code",
   "execution_count": null,
   "metadata": {
    "collapsed": true
   },
   "outputs": [],
   "source": []
  }
 ],
 "metadata": {
  "kernelspec": {
   "display_name": "Python 3",
   "language": "python",
   "name": "python3"
  },
  "language_info": {
   "codemirror_mode": {
    "name": "ipython",
    "version": 3
   },
   "file_extension": ".py",
   "mimetype": "text/x-python",
   "name": "python",
   "nbconvert_exporter": "python",
   "pygments_lexer": "ipython3",
   "version": "3.6.1"
  },
  "toc": {
   "colors": {
    "hover_highlight": "#DAA520",
    "navigate_num": "#000000",
    "navigate_text": "#333333",
    "running_highlight": "#FF0000",
    "selected_highlight": "#FFD700",
    "sidebar_border": "#EEEEEE",
    "wrapper_background": "#FFFFFF"
   },
   "moveMenuLeft": true,
   "nav_menu": {
    "height": "30px",
    "width": "252px"
   },
   "navigate_menu": true,
   "number_sections": true,
   "sideBar": true,
   "threshold": 4,
   "toc_cell": false,
   "toc_section_display": "block",
   "toc_window_display": true,
   "widenNotebook": false
  }
 },
 "nbformat": 4,
 "nbformat_minor": 2
}

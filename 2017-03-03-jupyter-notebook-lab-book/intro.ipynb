{
 "cells": [
  {
   "cell_type": "markdown",
   "metadata": {},
   "source": [
    "# Jupyter Notebook - python based lab book\n",
    "\n",
    "__Michal Dyzma__\n",
    "\n",
    "    Simple is better than complex.\n",
    "    Complex is better than complicated.\n",
    "                          -The Zen of Python"
   ]
  },
  {
   "cell_type": "markdown",
   "metadata": {},
   "source": [
    "## Text formatting"
   ]
  },
  {
   "cell_type": "markdown",
   "metadata": {},
   "source": [
    "_italic_<br>\n",
    "__bold__<br>\n",
    "~~Scratch~~<br>\n",
    "<br>[I'm an inline-style link](https://www.google.com)"
   ]
  },
  {
   "cell_type": "markdown",
   "metadata": {},
   "source": [
    "## Lists"
   ]
  },
  {
   "cell_type": "markdown",
   "metadata": {},
   "source": [
    "Ordered lists:\n",
    "1. ordered item 1\n",
    "1. ordered item 2\n",
    "1. ordered item 3\n",
    "\n",
    "Unordered list:\n",
    "- unordered item 1\n",
    "- unordered item 2\n",
    "- unordered item 3\n",
    "\n",
    "\n",
    "Nested lists:\n",
    "1. Number one\n",
    "    - and two\n",
    "        * and three"
   ]
  },
  {
   "cell_type": "markdown",
   "metadata": {},
   "source": [
    "## Tables"
   ]
  },
  {
   "cell_type": "markdown",
   "metadata": {},
   "source": [
    "| Tables        | Are           | Cool   |\n",
    "| ------------- |:-------------:| ------:|\n",
    "| col 3 is      | right-aligned |  \\$600 |\n",
    "| col 2 is      | centered      |   \\$12 |\n",
    "| zebra stripes | are neat      |    \\$1 |"
   ]
  },
  {
   "cell_type": "markdown",
   "metadata": {
    "collapsed": true
   },
   "source": [
    "## Syntax highlight"
   ]
  },
  {
   "cell_type": "markdown",
   "metadata": {
    "ExecuteTime": {
     "end_time": "2017-06-16T16:35:05.274690Z",
     "start_time": "2017-06-16T16:35:05.267673Z"
    }
   },
   "source": [
    "Python syntax highlight\n",
    "\n",
    "```python\n",
    "import this```\n",
    "\n",
    "\n",
    "Javascript syntax highlight\n",
    "\n",
    "```javascript\n",
    "var s = \"JavaScript syntax highlighting\";\n",
    "alert(s);\n",
    "```\n",
    " \n",
    "```python\n",
    "s = \"Python syntax highlighting\"\n",
    "print s\n",
    "```\n",
    "\n",
    "HTML\n",
    "\n",
    "```html\n",
    "<div class=\"page-header\">\n",
    "  <h1>Example page header <small>Subtext for header</small></h1>\n",
    "</div>```\n",
    "\n",
    "Bash\n",
    "\n",
    "```bash\n",
    "foo = 12\n",
    "$foo\n",
    "```"
   ]
  },
  {
   "cell_type": "markdown",
   "metadata": {},
   "source": [
    "## Math with $\\LaTeX$"
   ]
  },
  {
   "cell_type": "markdown",
   "metadata": {},
   "source": [
    "Inline math $a^2 + b^2 = c^2$\n",
    "\n",
    "And equations:\n",
    "\n",
    "$$\\frac{dCa_{Cyt}}{dt} = J_{ch}+J_{leak}-J_{pump}+J_{out}-J_{in} + k_-CaPr-k_+Ca_{Cyt}Pr$$\n",
    "<br>\n",
    "$$e^{i\\cdot\\pi}-1=0$$\n",
    "\n",
    "<br>\n",
    "\n",
    "$$\\int_0^\\infty \\mathrm{e}^{-x}\\,\\mathrm{d}x$$\n",
    "\n"
   ]
  },
  {
   "cell_type": "markdown",
   "metadata": {},
   "source": [
    "## Images"
   ]
  },
  {
   "cell_type": "markdown",
   "metadata": {
    "ExecuteTime": {
     "end_time": "2017-06-16T17:01:44.377136Z",
     "start_time": "2017-06-16T17:01:44.373634Z"
    }
   },
   "source": [
    "![logo](images/mdlogo3G_200x200.png)"
   ]
  },
  {
   "cell_type": "markdown",
   "metadata": {},
   "source": [
    "## Video"
   ]
  },
  {
   "cell_type": "code",
   "execution_count": 20,
   "metadata": {
    "ExecuteTime": {
     "end_time": "2017-06-16T17:09:00.726869Z",
     "start_time": "2017-06-16T17:09:00.536586Z"
    }
   },
   "outputs": [
    {
     "data": {
      "image/jpeg": "[encoded data removed]",
      "text/html": [
       "\n",
       "        <iframe\n",
       "            width=\"400\"\n",
       "            height=\"300\"\n",
       "            src=\"https://www.youtube.com/embed/wJyUtbn0O5Y?start=0\"\n",
       "            frameborder=\"0\"\n",
       "            allowfullscreen\n",
       "        ></iframe>\n",
       "        "
      ],
      "text/plain": [
       "<IPython.lib.display.YouTubeVideo at 0x1b99e44b400>"
      ]
     },
     "execution_count": 20,
     "metadata": {},
     "output_type": "execute_result"
    }
   ],
   "source": [
    "# Video\n",
    "from IPython.display import YouTubeVideo\n",
    "YouTubeVideo('wJyUtbn0O5Y', start=0)"
   ]
  },
  {
   "cell_type": "markdown",
   "metadata": {},
   "source": [
    "## System commands"
   ]
  },
  {
   "cell_type": "code",
   "execution_count": null,
   "metadata": {
    "ExecuteTime": {
     "end_time": "2017-06-16T16:41:11.621868Z",
     "start_time": "2017-06-16T16:41:11.395877Z"
    }
   },
   "outputs": [],
   "source": [
    "!dir"
   ]
  },
  {
   "cell_type": "markdown",
   "metadata": {},
   "source": [
    "## Python code execution"
   ]
  },
  {
   "cell_type": "code",
   "execution_count": 21,
   "metadata": {
    "ExecuteTime": {
     "end_time": "2017-06-16T17:15:26.454953Z",
     "start_time": "2017-06-16T17:15:26.449453Z"
    }
   },
   "outputs": [
    {
     "name": "stdout",
     "output_type": "stream",
     "text": [
      "0\n",
      "1\n",
      "2\n",
      "3\n",
      "4\n"
     ]
    }
   ],
   "source": [
    "for i in range(5):\n",
    "    print(i)"
   ]
  }
 ],
 "metadata": {
  "kernelspec": {
   "display_name": "Python 3",
   "language": "python",
   "name": "python3"
  },
  "language_info": {
   "codemirror_mode": {
    "name": "ipython",
    "version": 3
   },
   "file_extension": ".py",
   "mimetype": "text/x-python",
   "name": "python",
   "nbconvert_exporter": "python",
   "pygments_lexer": "ipython3",
   "version": "3.6.1"
  },
  "toc": {
   "colors": {
    "hover_highlight": "#DAA520",
    "navigate_num": "#000000",
    "navigate_text": "#333333",
    "running_highlight": "#FF0000",
    "selected_highlight": "#FFD700",
    "sidebar_border": "#EEEEEE",
    "wrapper_background": "#FFFFFF"
   },
   "moveMenuLeft": true,
   "nav_menu": {
    "height": "207px",
    "width": "252px"
   },
   "navigate_menu": true,
   "number_sections": true,
   "sideBar": true,
   "threshold": 4,
   "toc_cell": false,
   "toc_section_display": "block",
   "toc_window_display": true,
   "widenNotebook": false
  }
 },
 "nbformat": 4,
 "nbformat_minor": 2
}
